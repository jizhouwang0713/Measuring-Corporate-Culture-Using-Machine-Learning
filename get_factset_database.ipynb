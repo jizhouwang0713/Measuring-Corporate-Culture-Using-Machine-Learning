{
 "cells": [
  {
   "cell_type": "code",
   "execution_count": 1,
   "metadata": {},
   "outputs": [],
   "source": [
    "import psycopg2, pprint\n",
    "import pandas as pd\n",
    "# There were some problems installing the package. The following line is for debugging.\n",
    "# pprint.pprint(dir(psycopg2)) "
   ]
  },
  {
   "cell_type": "code",
   "execution_count": 2,
   "metadata": {},
   "outputs": [],
   "source": [
    "conn = psycopg2.connect(database=\"postgres\",\n",
    "                        host=\"aaz2.chicagobooth.edu\",\n",
    "                        user=\"jwang\",\n",
    "                        password=\"tmp_07092022\",\n",
    "                        port=\"54320\")\n",
    "\n",
    "cursor = conn.cursor()"
   ]
  },
  {
   "cell_type": "code",
   "execution_count": 37,
   "metadata": {},
   "outputs": [
    {
     "name": "stdout",
     "output_type": "stream",
     "text": [
      "[('factset', 'sharkrepellent'), ('factset', 'sharkrepellent_2017'), ('factset', 'sharkrepellent_stanford'), ('factset', 'sharkwatch'), ('factset', 'sr_permco'), ('factset', 'srs_permco'), ('fs_features', 'fls_measure'), ('fs_features', 'fog_measure'), ('fs_features', 'liwc_2015'), ('fs_features', 'liwc_2015_dict'), ('fs_features', 'liwc_2015_func'), ('fs_features', 'neg_liwc_2015_dict'), ('fs_features', 'ner_class_alt_4'), ('fs_features', 'ner_class_alt_7'), ('fs_features', 'non_answers'), ('fs_features', 'regexes'), ('fs_features', 'script'), ('fs_features', 'tone_lm'), ('fs_features', 'tone_measure'), ('fs_features', 'topic_attribution'), ('fs_features', 'topic_attribution_word_list'), ('fs_features', 'topic_comp_intensity'), ('fs_features', 'topic_comp_intensity_word_list'), ('fs_features', 'topic_kls'), ('fs_features', 'topic_kls_word_list'), ('fs_features', 'topic_mpr'), ('fs_features', 'topic_mpr_word_list'), ('fs_features', 'topic_pead'), ('fs_features', 'topic_pead_word_list'), ('fs_features', 'topic_pharma'), ('fs_features', 'topic_pharma_word_list'), ('fs_features', 'word_counts'), ('fs_links', 'cusip6'), ('fs_links', 'equilar_link'), ('fs_links', 'executive_link'), ('fs_links', 'permnos'), ('fs_links', 'permnos_old')]\n"
     ]
    }
   ],
   "source": [
    "sql = \"\"\"SELECT distinct table_schema, table_name\n",
    "FROM information_schema.columns\n",
    "where table_schema in ('factset', 'fs_links', 'fs_features')\n",
    "order by table_schema, table_name;\"\"\"\n",
    "\n",
    "cursor.execute(sql)\n",
    "table_names = cursor.fetchall()\n",
    "print(table_names)"
   ]
  },
  {
   "cell_type": "code",
   "execution_count": 39,
   "metadata": {},
   "outputs": [
    {
     "name": "stdout",
     "output_type": "stream",
     "text": [
      "   table_schema                      table_name\n",
      "0       factset                  sharkrepellent\n",
      "1       factset             sharkrepellent_2017\n",
      "2       factset         sharkrepellent_stanford\n",
      "3       factset                      sharkwatch\n",
      "4       factset                       sr_permco\n",
      "5       factset                      srs_permco\n",
      "6   fs_features                     fls_measure\n",
      "7   fs_features                     fog_measure\n",
      "8   fs_features                       liwc_2015\n",
      "9   fs_features                  liwc_2015_dict\n",
      "10  fs_features                  liwc_2015_func\n",
      "11  fs_features              neg_liwc_2015_dict\n",
      "12  fs_features                 ner_class_alt_4\n",
      "13  fs_features                 ner_class_alt_7\n",
      "14  fs_features                     non_answers\n",
      "15  fs_features                         regexes\n",
      "16  fs_features                          script\n",
      "17  fs_features                         tone_lm\n",
      "18  fs_features                    tone_measure\n",
      "19  fs_features               topic_attribution\n",
      "20  fs_features     topic_attribution_word_list\n",
      "21  fs_features            topic_comp_intensity\n",
      "22  fs_features  topic_comp_intensity_word_list\n",
      "23  fs_features                       topic_kls\n",
      "24  fs_features             topic_kls_word_list\n",
      "25  fs_features                       topic_mpr\n",
      "26  fs_features             topic_mpr_word_list\n",
      "27  fs_features                      topic_pead\n",
      "28  fs_features            topic_pead_word_list\n",
      "29  fs_features                    topic_pharma\n",
      "30  fs_features          topic_pharma_word_list\n",
      "31  fs_features                     word_counts\n",
      "32     fs_links                          cusip6\n",
      "33     fs_links                    equilar_link\n",
      "34     fs_links                  executive_link\n",
      "35     fs_links                         permnos\n",
      "36     fs_links                     permnos_old\n"
     ]
    }
   ],
   "source": [
    "table_names_df = df = pd.DataFrame(table_names, columns = ['table_schema', 'table_name'])\n",
    "print(table_names_df)"
   ]
  },
  {
   "cell_type": "code",
   "execution_count": 4,
   "metadata": {},
   "outputs": [],
   "source": [
    "conn.close()"
   ]
  },
  {
   "cell_type": "code",
   "execution_count": 30,
   "metadata": {},
   "outputs": [],
   "source": [
    "conn2 = psycopg2.connect(database=\"factset\",\n",
    "                        host=\"aaz2.chicagobooth.edu\",\n",
    "                        user=\"jwang\",\n",
    "                        password=\"tmp_07092022\",\n",
    "                        port=\"54320\")\n",
    "\n",
    "cursor2 = conn2.cursor()"
   ]
  },
  {
   "cell_type": "code",
   "execution_count": 31,
   "metadata": {},
   "outputs": [],
   "source": [
    "sql = '''\n",
    "SELECT report_id, factset_entity_id, report_expected \n",
    "FROM fds.evt_v1_ce_reports\n",
    "ORDER BY report_id, report_expected;\n",
    "'''\n",
    "cursor2.execute(sql)"
   ]
  },
  {
   "cell_type": "code",
   "execution_count": 32,
   "metadata": {},
   "outputs": [],
   "source": [
    "table_transcript_entity = cursor2.fetchall()\n",
    "#print(table_transcript_entity)\n",
    "df_transcript_entity = pd.DataFrame(table_transcript_entity, columns = ['report_id', 'factset_entity_id', 'report_expected'])\n",
    "print(df_transcript_entity.shape)"
   ]
  },
  {
   "cell_type": "code",
   "execution_count": 38,
   "metadata": {},
   "outputs": [],
   "source": [
    "#print(len(df_transcript_entity.report_id.unique()))\n",
    "df_transcript_entity.to_csv(\"Z:/Measuring-Corporate-Culture-Using-Machine-Learning/data_cleaning/transcript_entity.csv\",\n",
    "                            header = True,\n",
    "                            index = False)"
   ]
  },
  {
   "cell_type": "code",
   "execution_count": 39,
   "metadata": {},
   "outputs": [],
   "source": [
    "conn2.close()"
   ]
  },
  {
   "cell_type": "code",
   "execution_count": 54,
   "metadata": {},
   "outputs": [],
   "source": [
    "conn3 = psycopg2.connect(database=\"postgres\",\n",
    "                        host=\"aaz2.chicagobooth.edu\",\n",
    "                        user=\"jwang\",\n",
    "                        password=\"tmp_07092022\",\n",
    "                        port=\"54320\")\n",
    "\n",
    "cursor3 = conn3.cursor()"
   ]
  },
  {
   "cell_type": "code",
   "execution_count": 55,
   "metadata": {},
   "outputs": [],
   "source": [
    "sql = '''\n",
    "SELECT factset_entity_id, cusip6, start_date, end_date\n",
    "FROM fs_links.cusip6\n",
    "ORDER BY factset_entity_id;\n",
    "'''\n",
    "cursor3.execute(sql)"
   ]
  },
  {
   "cell_type": "code",
   "execution_count": 56,
   "metadata": {},
   "outputs": [
    {
     "name": "stdout",
     "output_type": "stream",
     "text": [
      "   factset_entity_id  cusip6  start_date    end_date\n",
      "0           000BDW-E  170386  1999-11-30  2022-03-31\n",
      "1           000BDW-E  31983M  1990-09-28  1999-10-29\n",
      "2           000BDX-E  336901  1983-08-31  2022-03-31\n",
      "3           000BFD-E  885535  1984-03-30  2010-03-31\n",
      "4           000BFS-E  000361  1972-01-31  2022-03-31\n",
      "5           000BFT-E  002535  1982-11-30  2020-09-30\n",
      "6           000BG0-E  002564  1989-03-31  2012-09-28\n",
      "7           000BG2-E  002824  1972-01-31  2022-03-31\n",
      "8           000BG4-E  000400  1994-05-31  2005-11-30\n",
      "9           000BG4-E  03076K  2005-12-30  2022-03-31\n",
      "10          000BG6-E  003390  1986-08-29  2009-08-31\n",
      "11          000BG7-E  003654  1987-07-31  2022-03-31\n",
      "12          000BG9-E  003924  1997-05-30  2007-09-28\n",
      "13          000BGB-E  000957  1994-03-31  2022-03-31\n",
      "14          000BGD-E  003830  1991-05-31  2022-03-31\n",
      "15          000BGX-E  004325  1988-06-30  2008-07-31\n",
      "16          000BH0-E  004408  2016-01-29  2016-02-29\n",
      "17          000BH0-E  00443*  2016-03-31  2018-06-29\n",
      "18          000BH0-E  G0070K  1993-03-31  2008-06-30\n"
     ]
    }
   ],
   "source": [
    "table_entity_cusip = cursor3.fetchall()\n",
    "#print(table_transcript_entity)\n",
    "df_entity_cusip = pd.DataFrame(table_entity_cusip, columns = ['factset_entity_id', 'cusip6', 'start_date', 'end_date'])\n",
    "print(df_entity_cusip[:19])"
   ]
  },
  {
   "cell_type": "code",
   "execution_count": 57,
   "metadata": {},
   "outputs": [],
   "source": [
    "df_entity_cusip.to_csv(\"Z:/Measuring-Corporate-Culture-Using-Machine-Learning/data_cleaning/entity_cusip.csv\",\n",
    "                            header = True,\n",
    "                            index = False)\n",
    "conn3.close()"
   ]
  },
  {
   "cell_type": "code",
   "execution_count": 65,
   "metadata": {},
   "outputs": [],
   "source": [
    "conn4 = psycopg2.connect(database=\"postgres\",\n",
    "                        host=\"aaz2.chicagobooth.edu\",\n",
    "                        user=\"jwang\",\n",
    "                        password=\"tmp_07092022\",\n",
    "                        port=\"54320\")\n",
    "\n",
    "cursor4 = conn4.cursor()"
   ]
  },
  {
   "cell_type": "code",
   "execution_count": 66,
   "metadata": {},
   "outputs": [],
   "source": [
    "sql = '''\n",
    "SELECT factset_entity_id, permno, start_date, end_date\n",
    "FROM fs_links.permnos\n",
    "ORDER BY factset_entity_id;\n",
    "'''\n",
    "cursor4.execute(sql)"
   ]
  },
  {
   "cell_type": "code",
   "execution_count": 67,
   "metadata": {},
   "outputs": [
    {
     "name": "stdout",
     "output_type": "stream",
     "text": [
      "(13778, 4)\n"
     ]
    }
   ],
   "source": [
    "table_entity_permno = cursor4.fetchall()\n",
    "#print(table_transcript_entity)\n",
    "df_entity_permno = pd.DataFrame(table_entity_permno, columns = ['factset_entity_id', 'permno', 'start_date', 'end_date'])\n",
    "print(df_entity_permno.shape)"
   ]
  },
  {
   "cell_type": "code",
   "execution_count": 64,
   "metadata": {},
   "outputs": [],
   "source": [
    "df_entity_permno.to_csv(\"Z:/Measuring-Corporate-Culture-Using-Machine-Learning/data_cleaning/entity_permno.csv\",\n",
    "                            header = True,\n",
    "                            index = False)\n",
    "conn4.close()"
   ]
  }
 ],
 "metadata": {
  "kernelspec": {
   "display_name": "Python 3.10.6 64-bit",
   "language": "python",
   "name": "python3"
  },
  "language_info": {
   "codemirror_mode": {
    "name": "ipython",
    "version": 3
   },
   "file_extension": ".py",
   "mimetype": "text/x-python",
   "name": "python",
   "nbconvert_exporter": "python",
   "pygments_lexer": "ipython3",
   "version": "3.10.6"
  },
  "orig_nbformat": 4,
  "vscode": {
   "interpreter": {
    "hash": "352bbe8eef13dbc790a4a10aef27629e00f277446254fc1e3e762725b62d7e10"
   }
  }
 },
 "nbformat": 4,
 "nbformat_minor": 2
}
