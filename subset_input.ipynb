{
 "cells": [
  {
   "cell_type": "code",
   "execution_count": 1,
   "metadata": {},
   "outputs": [],
   "source": [
    "import pandas as pd"
   ]
  },
  {
   "cell_type": "code",
   "execution_count": 2,
   "metadata": {},
   "outputs": [
    {
     "name": "stdout",
     "output_type": "stream",
     "text": [
      "The number of documents in the subsample is 8\n"
     ]
    }
   ],
   "source": [
    "document_id_set = set(map(str, pd.read_csv('C:/Users/jizhouw0/Desktop/sample_transcripts_xml/text_all/transcript_list.csv')[\"document_id\"]))\n",
    "\n",
    "with open(\"C:/Users/jizhouw0/Desktop/sample_transcripts_xml/text_all/document_ids.txt\", \"r\") as f_id:\n",
    "    lines = f_id.readlines()\n",
    "\n",
    "l = len(lines)\n",
    "\n",
    "index_list = []\n",
    "included = set()\n",
    "for i, line in enumerate(lines):\n",
    "    if line.strip(\"\\n\") in document_id_set:\n",
    "        if i not in included:\n",
    "            index_list.append(i)\n",
    "            included.add(i)\n",
    "print(f\"The number of documents in the subsample is {len(index_list)}\")\n",
    "\n",
    "\n",
    "        \n",
    "\n"
   ]
  },
  {
   "cell_type": "code",
   "execution_count": null,
   "metadata": {},
   "outputs": [],
   "source": [
    "\n",
    "# document_id_df = pd.DataFrame(list(document_id_set), columns=[\"document_id\"])\n",
    "# id2firms_df = pd.read_csv(\"C:/Users/jizhouw0/Desktop/sample_transcripts_xml/text_all/id2firms.csv\")\n",
    "# id2firms_df_sub = document_id_df.merge(id2firms_df, how = 'left', on = [\"document_id\"]).sort_values([\"time\"], ascending = [True])\n",
    "# id2firms_df_sub.to_csv(\"C:/Users/jizhouw0/Desktop/sample_transcripts_xml/text_all/id2firms_sub.csv\", header = True, index = False)"
   ]
  },
  {
   "cell_type": "code",
   "execution_count": 3,
   "metadata": {},
   "outputs": [],
   "source": [
    "# generate the subsample for id2firms\n",
    "to_drop = []\n",
    "for i in range(l):\n",
    "    if i not in index_list:\n",
    "        to_drop.append(i)\n",
    "        \n",
    "id2firms_df = pd.read_csv(\"C:/Users/jizhouw0/Desktop/sample_transcripts_xml/text_all/id2firms.csv\")\n",
    "id2firms_df_sub = id2firms_df.drop(to_drop)\n",
    "id2firms_df_sub.to_csv(\"C:/Users/jizhouw0/Desktop/sample_transcripts_xml/text_all/id2firms_sub.csv\", header = True, index = False)"
   ]
  },
  {
   "cell_type": "code",
   "execution_count": 4,
   "metadata": {},
   "outputs": [],
   "source": [
    "input_list = [\"C:/Users/jizhouw0/Desktop/sample_transcripts_xml/text_all/transcripts_both.txt\",\n",
    "             \"C:/Users/jizhouw0/Desktop/sample_transcripts_xml/text_all/transcripts_scripted.txt\",\n",
    "             \"C:/Users/jizhouw0/Desktop/sample_transcripts_xml/text_all/transcripts_unscripted.txt\",\n",
    "             \"C:/Users/jizhouw0/Desktop/sample_transcripts_xml/text_all/document_ids.txt\"]\n",
    "\n",
    "output_list = [\"C:/Users/jizhouw0/Desktop/sample_transcripts_xml/text_all/transcripts_both_sub.txt\",\n",
    "             \"C:/Users/jizhouw0/Desktop/sample_transcripts_xml/text_all/transcripts_scripted_sub.txt\",\n",
    "             \"C:/Users/jizhouw0/Desktop/sample_transcripts_xml/text_all/transcripts_unscripted_sub.txt\",\n",
    "             \"C:/Users/jizhouw0/Desktop/sample_transcripts_xml/text_all/document_ids_sub.txt\"]\n",
    "\n",
    "for j, input in enumerate(input_list):\n",
    "    with open(input, \"r\") as f:\n",
    "        lines = f.readlines()\n",
    "    with open(output_list[j], \"w\") as f_sub:\n",
    "        for i, line in enumerate(lines):\n",
    "            if i in index_list:\n",
    "                f_sub.write(line)\n",
    "\n",
    "\n"
   ]
  },
  {
   "cell_type": "code",
   "execution_count": 5,
   "metadata": {},
   "outputs": [],
   "source": [
    "# define a helper function -- line_counter\n",
    "def line_counter(a_file):\n",
    "    \"\"\"Count the number of lines in a text file\n",
    "    \n",
    "    Arguments:\n",
    "        a_file {str or Path} -- input text file\n",
    "    \n",
    "    Returns:\n",
    "        int -- number of lines in the file\n",
    "    \"\"\"\n",
    "    n_lines = 0\n",
    "    with open(a_file, \"rb\") as f:\n",
    "        n_lines = sum(1 for _ in f)\n",
    "    return n_lines\n",
    "\n",
    "# Assert the line numbers are correct\n",
    "assert len(index_list) == line_counter(\"C:/Users/jizhouw0/Desktop/sample_transcripts_xml/text_all/transcripts_both_sub.txt\"), \"Number of transcripts incorrect (both)!\"\n",
    "assert len(index_list) == line_counter(\"C:/Users/jizhouw0/Desktop/sample_transcripts_xml/text_all/transcripts_scripted_sub.txt\"), \"Number of transcripts incorrect (scripted)!\"\n",
    "assert len(index_list) == line_counter(\"C:/Users/jizhouw0/Desktop/sample_transcripts_xml/text_all/transcripts_unscripted_sub.txt\"), \"Number of transcripts incorrect (unscripted)!\"\n",
    "assert len(index_list) == line_counter(\"C:/Users/jizhouw0/Desktop/sample_transcripts_xml/text_all/document_ids_sub.txt\"), \"Number of transcripts incorrect (unscripted)!\"\n",
    "assert id2firms_df_sub.shape[0] == line_counter(\"C:/Users/jizhouw0/Desktop/sample_transcripts_xml/text_all/transcripts_unscripted_sub.txt\"), \"Number of transcripts incorrect (unscripted)!\"\n"
   ]
  }
 ],
 "metadata": {
  "kernelspec": {
   "display_name": "Python 3.10.6 64-bit",
   "language": "python",
   "name": "python3"
  },
  "language_info": {
   "codemirror_mode": {
    "name": "ipython",
    "version": 3
   },
   "file_extension": ".py",
   "mimetype": "text/x-python",
   "name": "python",
   "nbconvert_exporter": "python",
   "pygments_lexer": "ipython3",
   "version": "3.10.6"
  },
  "orig_nbformat": 4,
  "vscode": {
   "interpreter": {
    "hash": "352bbe8eef13dbc790a4a10aef27629e00f277446254fc1e3e762725b62d7e10"
   }
  }
 },
 "nbformat": 4,
 "nbformat_minor": 2
}
