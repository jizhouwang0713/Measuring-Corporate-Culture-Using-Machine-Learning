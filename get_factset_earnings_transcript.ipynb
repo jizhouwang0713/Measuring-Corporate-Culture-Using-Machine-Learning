{
 "cells": [
  {
   "cell_type": "code",
   "execution_count": 35,
   "metadata": {},
   "outputs": [],
   "source": [
    "import psycopg2, pprint\n",
    "import pandas as pd\n",
    "# There were some problems installing the package. The following line is for debugging.\n",
    "# pprint.pprint(dir(psycopg2)) "
   ]
  },
  {
   "cell_type": "code",
   "execution_count": 53,
   "metadata": {},
   "outputs": [],
   "source": [
    "conn = psycopg2.connect(database=\"postgres\",\n",
    "                        host=\"aaz2.chicagobooth.edu\",\n",
    "                        user=\"jwang\",\n",
    "                        password=\"tmp_07092022\",\n",
    "                        port=\"54320\")\n",
    "\n",
    "cursor = conn.cursor()"
   ]
  },
  {
   "cell_type": "code",
   "execution_count": 37,
   "metadata": {},
   "outputs": [
    {
     "name": "stdout",
     "output_type": "stream",
     "text": [
      "[('factset', 'sharkrepellent'), ('factset', 'sharkrepellent_2017'), ('factset', 'sharkrepellent_stanford'), ('factset', 'sharkwatch'), ('factset', 'sr_permco'), ('factset', 'srs_permco'), ('fs_features', 'fls_measure'), ('fs_features', 'fog_measure'), ('fs_features', 'liwc_2015'), ('fs_features', 'liwc_2015_dict'), ('fs_features', 'liwc_2015_func'), ('fs_features', 'neg_liwc_2015_dict'), ('fs_features', 'ner_class_alt_4'), ('fs_features', 'ner_class_alt_7'), ('fs_features', 'non_answers'), ('fs_features', 'regexes'), ('fs_features', 'script'), ('fs_features', 'tone_lm'), ('fs_features', 'tone_measure'), ('fs_features', 'topic_attribution'), ('fs_features', 'topic_attribution_word_list'), ('fs_features', 'topic_comp_intensity'), ('fs_features', 'topic_comp_intensity_word_list'), ('fs_features', 'topic_kls'), ('fs_features', 'topic_kls_word_list'), ('fs_features', 'topic_mpr'), ('fs_features', 'topic_mpr_word_list'), ('fs_features', 'topic_pead'), ('fs_features', 'topic_pead_word_list'), ('fs_features', 'topic_pharma'), ('fs_features', 'topic_pharma_word_list'), ('fs_features', 'word_counts'), ('fs_links', 'cusip6'), ('fs_links', 'equilar_link'), ('fs_links', 'executive_link'), ('fs_links', 'permnos'), ('fs_links', 'permnos_old')]\n"
     ]
    }
   ],
   "source": [
    "sql = \"\"\"SELECT distinct table_schema, table_name\n",
    "FROM information_schema.columns\n",
    "where table_schema in ('factset', 'fs_links', 'fs_features')\n",
    "order by table_schema, table_name;\"\"\"\n",
    "\n",
    "cursor.execute(sql)\n",
    "table_names = cursor.fetchall()\n",
    "print(table_names)"
   ]
  },
  {
   "cell_type": "code",
   "execution_count": 39,
   "metadata": {},
   "outputs": [
    {
     "name": "stdout",
     "output_type": "stream",
     "text": [
      "   table_schema                      table_name\n",
      "0       factset                  sharkrepellent\n",
      "1       factset             sharkrepellent_2017\n",
      "2       factset         sharkrepellent_stanford\n",
      "3       factset                      sharkwatch\n",
      "4       factset                       sr_permco\n",
      "5       factset                      srs_permco\n",
      "6   fs_features                     fls_measure\n",
      "7   fs_features                     fog_measure\n",
      "8   fs_features                       liwc_2015\n",
      "9   fs_features                  liwc_2015_dict\n",
      "10  fs_features                  liwc_2015_func\n",
      "11  fs_features              neg_liwc_2015_dict\n",
      "12  fs_features                 ner_class_alt_4\n",
      "13  fs_features                 ner_class_alt_7\n",
      "14  fs_features                     non_answers\n",
      "15  fs_features                         regexes\n",
      "16  fs_features                          script\n",
      "17  fs_features                         tone_lm\n",
      "18  fs_features                    tone_measure\n",
      "19  fs_features               topic_attribution\n",
      "20  fs_features     topic_attribution_word_list\n",
      "21  fs_features            topic_comp_intensity\n",
      "22  fs_features  topic_comp_intensity_word_list\n",
      "23  fs_features                       topic_kls\n",
      "24  fs_features             topic_kls_word_list\n",
      "25  fs_features                       topic_mpr\n",
      "26  fs_features             topic_mpr_word_list\n",
      "27  fs_features                      topic_pead\n",
      "28  fs_features            topic_pead_word_list\n",
      "29  fs_features                    topic_pharma\n",
      "30  fs_features          topic_pharma_word_list\n",
      "31  fs_features                     word_counts\n",
      "32     fs_links                          cusip6\n",
      "33     fs_links                    equilar_link\n",
      "34     fs_links                  executive_link\n",
      "35     fs_links                         permnos\n",
      "36     fs_links                     permnos_old\n"
     ]
    }
   ],
   "source": [
    "table_names_df = df = pd.DataFrame(table_names, columns = ['table_schema', 'table_name'])\n",
    "print(table_names_df)"
   ]
  },
  {
   "cell_type": "code",
   "execution_count": 51,
   "metadata": {},
   "outputs": [],
   "source": [
    "cursor.execute(\"ALTER USER jwang WITH PASSWORD 'P63Rt981';\")"
   ]
  },
  {
   "cell_type": "code",
   "execution_count": null,
   "metadata": {},
   "outputs": [],
   "source": [
    "conn.close()"
   ]
  }
 ],
 "metadata": {
  "kernelspec": {
   "display_name": "Python 3.10.6 64-bit",
   "language": "python",
   "name": "python3"
  },
  "language_info": {
   "codemirror_mode": {
    "name": "ipython",
    "version": 3
   },
   "file_extension": ".py",
   "mimetype": "text/x-python",
   "name": "python",
   "nbconvert_exporter": "python",
   "pygments_lexer": "ipython3",
   "version": "3.10.6"
  },
  "orig_nbformat": 4,
  "vscode": {
   "interpreter": {
    "hash": "352bbe8eef13dbc790a4a10aef27629e00f277446254fc1e3e762725b62d7e10"
   }
  }
 },
 "nbformat": 4,
 "nbformat_minor": 2
}
